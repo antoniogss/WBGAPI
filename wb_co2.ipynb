{
  "nbformat": 4,
  "nbformat_minor": 0,
  "metadata": {
    "colab": {
      "provenance": [],
      "authorship_tag": "ABX9TyNOv9M7VcmqHluodMZl5mkB",
      "include_colab_link": true
    },
    "kernelspec": {
      "name": "python3",
      "display_name": "Python 3"
    },
    "language_info": {
      "name": "python"
    }
  },
  "cells": [
    {
      "cell_type": "markdown",
      "metadata": {
        "id": "view-in-github",
        "colab_type": "text"
      },
      "source": [
        "<a href=\"https://colab.research.google.com/github/antoniogss/WBGAPI/blob/main/wb_co2.ipynb\" target=\"_parent\"><img src=\"https://colab.research.google.com/assets/colab-badge.svg\" alt=\"Open In Colab\"/></a>"
      ]
    },
    {
      "cell_type": "markdown",
      "source": [
        "#Notebook imports and packages"
      ],
      "metadata": {
        "id": "AjGpkiK_RhlQ"
      }
    },
    {
      "cell_type": "code",
      "execution_count": null,
      "metadata": {
        "id": "nEOFKuqxRLTc"
      },
      "outputs": [],
      "source": [
        "import pandas as pd\n",
        "import numpy as np\n",
        "import warnings as war\n",
        "import google.colab as gc\n",
        "import matplotlib.pyplot as plt"
      ]
    },
    {
      "cell_type": "markdown",
      "source": [
        "#Google Drive connection"
      ],
      "metadata": {
        "id": "k7Rm9d9zRpFh"
      }
    },
    {
      "cell_type": "code",
      "source": [
        "gc.drive.mount('./gdrive/', \n",
        "               force_remount=True\n",
        "              )\n",
        "gc.output.clear()"
      ],
      "metadata": {
        "id": "mGFG_byrRp9G"
      },
      "execution_count": null,
      "outputs": []
    },
    {
      "cell_type": "markdown",
      "source": [
        "#Creating directories"
      ],
      "metadata": {
        "id": "O6j90IrmTQoz"
      }
    },
    {
      "cell_type": "code",
      "source": [
        "%cd ./gdrive/MyDrive/CTS/"
      ],
      "metadata": {
        "colab": {
          "base_uri": "https://localhost:8080/"
        },
        "id": "_tPxlGFZSQI9",
        "outputId": "7c87a024-ba34-427e-de80-01c758a6cd96"
      },
      "execution_count": null,
      "outputs": [
        {
          "output_type": "stream",
          "name": "stdout",
          "text": [
            "/content/gdrive/MyDrive/CTS\n"
          ]
        }
      ]
    },
    {
      "cell_type": "code",
      "source": [
        "%mkdir -p \"./seminario_1/graficos/\""
      ],
      "metadata": {
        "id": "EwcLfMGRRu8I"
      },
      "execution_count": null,
      "outputs": []
    },
    {
      "cell_type": "code",
      "source": [
        "%cd ./seminario_1/graficos/"
      ],
      "metadata": {
        "colab": {
          "base_uri": "https://localhost:8080/"
        },
        "id": "YkzulmHFTGWU",
        "outputId": "eefe8d10-bd62-47b2-a3f0-94a749f8ccea"
      },
      "execution_count": null,
      "outputs": [
        {
          "output_type": "stream",
          "name": "stdout",
          "text": [
            "/content/gdrive/MyDrive/CTS/seminario_1/graficos\n"
          ]
        }
      ]
    },
    {
      "cell_type": "markdown",
      "source": [
        "#WBGAPI\n",
        "\n",
        "WBGAPI provides modern, pythonic access to the World Bank's data API. It is designed both for data novices and data scientist types.\n",
        "\n",
        "source: https://pypi.org/project/wbgapi/"
      ],
      "metadata": {
        "id": "Rc3r-sdfZ4bh"
      }
    },
    {
      "cell_type": "code",
      "source": [
        "!pip install wbgapi\n",
        "gc.output.clear()\n",
        "\n",
        "import wbgapi as wb"
      ],
      "metadata": {
        "id": "1Q1oUTMdUPs-"
      },
      "execution_count": null,
      "outputs": []
    },
    {
      "cell_type": "markdown",
      "source": [
        "#Indexes"
      ],
      "metadata": {
        "id": "2VPsB6Ghjpnm"
      }
    },
    {
      "cell_type": "code",
      "source": [
        "# wb.series.info(q='CO2')\n",
        "# wb.series.info(q='GDP')\n",
        "# wb.series.info(q='forest')"
      ],
      "metadata": {
        "id": "WKpEF4_NaSX3"
      },
      "execution_count": null,
      "outputs": []
    },
    {
      "cell_type": "code",
      "source": [
        "\"\"\"\t\n",
        "0 - CO2 emissions (kt)\n",
        "1 - GDP per capita (current US$)\n",
        "2 - Forest area (sq. km)\n",
        "\"\"\"\n",
        "index = ['EN.ATM.CO2E.KT','NY.GDP.PCAP.CD','AG.LND.FRST.K2'] #Series"
      ],
      "metadata": {
        "id": "lOGWGNHSgHpP"
      },
      "execution_count": null,
      "outputs": []
    },
    {
      "cell_type": "markdown",
      "source": [
        "#Time"
      ],
      "metadata": {
        "id": "z_S0nKcZlPO5"
      }
    },
    {
      "cell_type": "code",
      "source": [
        "# wb.time.info()"
      ],
      "metadata": {
        "id": "313BOrDnkdT7"
      },
      "execution_count": null,
      "outputs": []
    },
    {
      "cell_type": "code",
      "source": [
        "start = 1992\n",
        "stop = 2022\n",
        "step = 1\n",
        "time = list(range(start,stop,step))\n",
        "# print('years:',time)\n",
        "#Ctrl+F10: run after"
      ],
      "metadata": {
        "id": "YIdkeXE0xRYS"
      },
      "execution_count": null,
      "outputs": []
    },
    {
      "cell_type": "markdown",
      "source": [
        "#Brazil"
      ],
      "metadata": {
        "id": "mGu7RatWj5SH"
      }
    },
    {
      "cell_type": "code",
      "source": [
        "wb.economy.info(q='Brazil')"
      ],
      "metadata": {
        "colab": {
          "base_uri": "https://localhost:8080/",
          "height": 83
        },
        "id": "nnFa-kykdZDi",
        "outputId": "afc1a15f-d003-4a46-fe50-095e1c3c5ba0"
      },
      "execution_count": null,
      "outputs": [
        {
          "output_type": "execute_result",
          "data": {
            "text/plain": [
              "id    value       region    incomeLevel\n",
              "----  ----------  --------  -------------\n",
              "BRA   Brazil      LCN       UMC\n",
              "      1 elements"
            ],
            "text/html": [
              "<div class=\"wbgapi\"><table>\n",
              "<thead>\n",
              "<tr><th>id  </th><th>value     </th><th>region  </th><th>incomeLevel  </th></tr>\n",
              "</thead>\n",
              "<tbody>\n",
              "<tr><td>BRA </td><td>Brazil    </td><td>LCN     </td><td>UMC          </td></tr>\n",
              "<tr><td>    </td><td>1 elements</td><td>        </td><td>             </td></tr>\n",
              "</tbody>\n",
              "</table></div>"
            ]
          },
          "metadata": {},
          "execution_count": 11
        }
      ]
    },
    {
      "cell_type": "code",
      "source": [
        "bra_co2 = wb.data.DataFrame(index[0],\n",
        "                        'BRA',\n",
        "                        time\n",
        "                        )\n",
        "\n",
        "\"\"\"\n",
        "reset the index and convert \n",
        "the index to a column\n",
        "\"\"\"\n",
        "bra_co2.reset_index(inplace=True)\n",
        "\n",
        "#Transpose \n",
        "bra_co2 = bra_co2.T\n",
        "\n",
        "bra_co2.rename(columns=bra_co2.iloc[0], inplace = True)\n",
        "bra_co2.drop(bra_co2.index[0], inplace = True)\n",
        "bra_co2.reset_index(inplace=True)\n",
        "bra_co2 = bra_co2.rename(columns = {'index':'Year'})\n",
        "\n",
        "bra_co2.rename(columns={'BRA':'Brazil'},\n",
        "               inplace = True\n",
        "              )\n",
        "\n",
        "bra_co2.replace({'YR' : ' '}, regex = True, inplace = True)\n",
        "bra_co2['Brazil'] = bra_co2['Brazil'] .astype(float)\n",
        "bra_co2['Year'] = bra_co2['Year'].astype(int)\n",
        "\n",
        "bra_co2.head()"
      ],
      "metadata": {
        "id": "ubJMUO_8bmMO",
        "colab": {
          "base_uri": "https://localhost:8080/",
          "height": 206
        },
        "outputId": "04928a9b-a442-4f2e-ef29-dbaec632a7d1"
      },
      "execution_count": null,
      "outputs": [
        {
          "output_type": "execute_result",
          "data": {
            "text/plain": [
              "   Year    Brazil\n",
              "0  1992  207870.0\n",
              "1  1993  215260.0\n",
              "2  1994  222500.0\n",
              "3  1995  241280.0\n",
              "4  1996  262410.0"
            ],
            "text/html": [
              "\n",
              "  <div id=\"df-122a96a6-ca29-42f0-bed5-550485639cf2\">\n",
              "    <div class=\"colab-df-container\">\n",
              "      <div>\n",
              "<style scoped>\n",
              "    .dataframe tbody tr th:only-of-type {\n",
              "        vertical-align: middle;\n",
              "    }\n",
              "\n",
              "    .dataframe tbody tr th {\n",
              "        vertical-align: top;\n",
              "    }\n",
              "\n",
              "    .dataframe thead th {\n",
              "        text-align: right;\n",
              "    }\n",
              "</style>\n",
              "<table border=\"1\" class=\"dataframe\">\n",
              "  <thead>\n",
              "    <tr style=\"text-align: right;\">\n",
              "      <th></th>\n",
              "      <th>Year</th>\n",
              "      <th>Brazil</th>\n",
              "    </tr>\n",
              "  </thead>\n",
              "  <tbody>\n",
              "    <tr>\n",
              "      <th>0</th>\n",
              "      <td>1992</td>\n",
              "      <td>207870.0</td>\n",
              "    </tr>\n",
              "    <tr>\n",
              "      <th>1</th>\n",
              "      <td>1993</td>\n",
              "      <td>215260.0</td>\n",
              "    </tr>\n",
              "    <tr>\n",
              "      <th>2</th>\n",
              "      <td>1994</td>\n",
              "      <td>222500.0</td>\n",
              "    </tr>\n",
              "    <tr>\n",
              "      <th>3</th>\n",
              "      <td>1995</td>\n",
              "      <td>241280.0</td>\n",
              "    </tr>\n",
              "    <tr>\n",
              "      <th>4</th>\n",
              "      <td>1996</td>\n",
              "      <td>262410.0</td>\n",
              "    </tr>\n",
              "  </tbody>\n",
              "</table>\n",
              "</div>\n",
              "      <button class=\"colab-df-convert\" onclick=\"convertToInteractive('df-122a96a6-ca29-42f0-bed5-550485639cf2')\"\n",
              "              title=\"Convert this dataframe to an interactive table.\"\n",
              "              style=\"display:none;\">\n",
              "        \n",
              "  <svg xmlns=\"http://www.w3.org/2000/svg\" height=\"24px\"viewBox=\"0 0 24 24\"\n",
              "       width=\"24px\">\n",
              "    <path d=\"M0 0h24v24H0V0z\" fill=\"none\"/>\n",
              "    <path d=\"M18.56 5.44l.94 2.06.94-2.06 2.06-.94-2.06-.94-.94-2.06-.94 2.06-2.06.94zm-11 1L8.5 8.5l.94-2.06 2.06-.94-2.06-.94L8.5 2.5l-.94 2.06-2.06.94zm10 10l.94 2.06.94-2.06 2.06-.94-2.06-.94-.94-2.06-.94 2.06-2.06.94z\"/><path d=\"M17.41 7.96l-1.37-1.37c-.4-.4-.92-.59-1.43-.59-.52 0-1.04.2-1.43.59L10.3 9.45l-7.72 7.72c-.78.78-.78 2.05 0 2.83L4 21.41c.39.39.9.59 1.41.59.51 0 1.02-.2 1.41-.59l7.78-7.78 2.81-2.81c.8-.78.8-2.07 0-2.86zM5.41 20L4 18.59l7.72-7.72 1.47 1.35L5.41 20z\"/>\n",
              "  </svg>\n",
              "      </button>\n",
              "      \n",
              "  <style>\n",
              "    .colab-df-container {\n",
              "      display:flex;\n",
              "      flex-wrap:wrap;\n",
              "      gap: 12px;\n",
              "    }\n",
              "\n",
              "    .colab-df-convert {\n",
              "      background-color: #E8F0FE;\n",
              "      border: none;\n",
              "      border-radius: 50%;\n",
              "      cursor: pointer;\n",
              "      display: none;\n",
              "      fill: #1967D2;\n",
              "      height: 32px;\n",
              "      padding: 0 0 0 0;\n",
              "      width: 32px;\n",
              "    }\n",
              "\n",
              "    .colab-df-convert:hover {\n",
              "      background-color: #E2EBFA;\n",
              "      box-shadow: 0px 1px 2px rgba(60, 64, 67, 0.3), 0px 1px 3px 1px rgba(60, 64, 67, 0.15);\n",
              "      fill: #174EA6;\n",
              "    }\n",
              "\n",
              "    [theme=dark] .colab-df-convert {\n",
              "      background-color: #3B4455;\n",
              "      fill: #D2E3FC;\n",
              "    }\n",
              "\n",
              "    [theme=dark] .colab-df-convert:hover {\n",
              "      background-color: #434B5C;\n",
              "      box-shadow: 0px 1px 3px 1px rgba(0, 0, 0, 0.15);\n",
              "      filter: drop-shadow(0px 1px 2px rgba(0, 0, 0, 0.3));\n",
              "      fill: #FFFFFF;\n",
              "    }\n",
              "  </style>\n",
              "\n",
              "      <script>\n",
              "        const buttonEl =\n",
              "          document.querySelector('#df-122a96a6-ca29-42f0-bed5-550485639cf2 button.colab-df-convert');\n",
              "        buttonEl.style.display =\n",
              "          google.colab.kernel.accessAllowed ? 'block' : 'none';\n",
              "\n",
              "        async function convertToInteractive(key) {\n",
              "          const element = document.querySelector('#df-122a96a6-ca29-42f0-bed5-550485639cf2');\n",
              "          const dataTable =\n",
              "            await google.colab.kernel.invokeFunction('convertToInteractive',\n",
              "                                                     [key], {});\n",
              "          if (!dataTable) return;\n",
              "\n",
              "          const docLinkHtml = 'Like what you see? Visit the ' +\n",
              "            '<a target=\"_blank\" href=https://colab.research.google.com/notebooks/data_table.ipynb>data table notebook</a>'\n",
              "            + ' to learn more about interactive tables.';\n",
              "          element.innerHTML = '';\n",
              "          dataTable['output_type'] = 'display_data';\n",
              "          await google.colab.output.renderOutput(dataTable, element);\n",
              "          const docLink = document.createElement('div');\n",
              "          docLink.innerHTML = docLinkHtml;\n",
              "          element.appendChild(docLink);\n",
              "        }\n",
              "      </script>\n",
              "    </div>\n",
              "  </div>\n",
              "  "
            ]
          },
          "metadata": {},
          "execution_count": 12
        }
      ]
    },
    {
      "cell_type": "markdown",
      "source": [
        "#Economic Blocs\n",
        "\n",
        "1.   European Union = EU\n",
        "2.   Mercado Comum do Sul = MERCOSUL\n",
        "3.   North American Free Trade Agreement - NAFTA\n",
        "4.   Asia-Pacific Economic Cooperation - APEC\n",
        "5.   BRICS\n",
        "\n",
        "\n",
        "\n",
        "\n",
        "\n",
        "\n"
      ],
      "metadata": {
        "id": "C11UvV8KkKPT"
      }
    },
    {
      "cell_type": "code",
      "source": [
        "# wb.region.info()\n",
        "# wb.economy.info(q='South Africa')"
      ],
      "metadata": {
        "id": "4i6YRWwxeA5O"
      },
      "execution_count": null,
      "outputs": []
    },
    {
      "cell_type": "code",
      "source": [
        "EU = 'EUU'\n",
        "# wb.region.members(EU)"
      ],
      "metadata": {
        "id": "7XxmMTxYzATO"
      },
      "execution_count": null,
      "outputs": []
    },
    {
      "cell_type": "code",
      "source": [
        "MERCOSUL = ['BRA','URY','ARG','PRY','VEN']\n",
        "NAFTA = ['CAN','USA','MEX']\n",
        "APEC = ['AUS','BRN','CAN','CHL','CHN','HKG','IDN', \n",
        "        'JPN','KOR','MYS','MEX','NZL','PNG','PER',\n",
        "        'PHL','RUS','SGP','THA','USA','VNM']\n",
        "BRICS = ['BRA','RUS','IND','CHN','ZAF']"
      ],
      "metadata": {
        "id": "q1b_ZQWJmL9R"
      },
      "execution_count": null,
      "outputs": []
    },
    {
      "cell_type": "code",
      "source": [
        "eu_co2 = wb.data.DataFrame(index[0],\n",
        "                       wb.region.members(EU),\n",
        "                       time,\n",
        "                       labels=True\n",
        "                       )\n",
        "\n",
        "nafta_co2 = wb.data.DataFrame(index[0],\n",
        "                          NAFTA,\n",
        "                          time,\n",
        "                          labels=True\n",
        "                          )\n",
        "\n",
        "mercosul_co2 = wb.data.DataFrame(index[0],\n",
        "                             MERCOSUL,\n",
        "                             time,\n",
        "                             labels=True\n",
        "                             )\n",
        "\n",
        "apec_co2 = wb.data.DataFrame(index[0],\n",
        "                         APEC,\n",
        "                         time,\n",
        "                         labels=True\n",
        "                         )\n",
        "\n",
        "brics_co2 = wb.data.DataFrame(index[0],\n",
        "                          BRICS,\n",
        "                          time,\n",
        "                          labels=True\n",
        "                          )\n",
        "\n",
        "dfs = [eu_co2,nafta_co2,mercosul_co2,apec_co2,brics_co2]\n",
        "\n",
        "for df in dfs:\n",
        "    df.reset_index(drop=True, inplace=True)\n",
        "    \n",
        "eu_co2 = eu_co2.T\n",
        "nafta_co2 = nafta_co2.T\n",
        "mercosul_co2 = mercosul_co2.T\n",
        "apec_co2 = apec_co2.T\n",
        "brics_co2 = brics_co2.T\n",
        "\n",
        "eu_co2.rename(columns=eu_co2.iloc[0], inplace = True)\n",
        "eu_co2.drop(eu_co2.index[0], inplace = True)\n",
        "eu_co2.reset_index(inplace=True)\n",
        "eu_co2 = eu_co2.rename(columns = {'index':'Year'})\n",
        "eu_co2 = eu_co2.replace({'YR' : ' '}, regex = True)\n",
        "\n",
        "nafta_co2.rename(columns=nafta_co2.iloc[0], inplace = True)\n",
        "nafta_co2.drop(nafta_co2.index[0], inplace = True)\n",
        "nafta_co2.reset_index(inplace=True)\n",
        "nafta_co2 = nafta_co2.rename(columns = {'index':'Year'})\n",
        "nafta_co2 = nafta_co2.replace({'YR' : ' '}, regex = True)\n",
        "\n",
        "mercosul_co2.rename(columns=mercosul_co2.iloc[0], inplace = True)\n",
        "mercosul_co2.drop(mercosul_co2.index[0], inplace = True)\n",
        "mercosul_co2.reset_index(inplace=True)\n",
        "mercosul_co2 = mercosul_co2.rename(columns = {'index':'Year'})\n",
        "mercosul_co2 = mercosul_co2.replace({'YR' : ' '}, regex = True)\n",
        "\n",
        "apec_co2.rename(columns=apec_co2.iloc[0], inplace = True)\n",
        "apec_co2.drop(apec_co2.index[0], inplace = True)\n",
        "apec_co2.reset_index(inplace=True)\n",
        "apec_co2 = apec_co2.rename(columns = {'index':'Year'})\n",
        "apec_co2 = apec_co2 .replace({'YR' : ' '}, regex = True)\n",
        "\n",
        "brics_co2.rename(columns=brics_co2.iloc[0], inplace = True)\n",
        "brics_co2.drop(brics_co2.index[0], inplace = True)\n",
        "brics_co2.reset_index(inplace=True)\n",
        "brics_co2 = brics_co2.rename(columns = {'index':'Year'})\n",
        "brics_co2 = brics_co2.replace({'YR' : ' '}, regex = True)"
      ],
      "metadata": {
        "id": "YhimGxFBv6km"
      },
      "execution_count": null,
      "outputs": []
    },
    {
      "cell_type": "markdown",
      "source": [
        "#Converting string to float or integer"
      ],
      "metadata": {
        "id": "y-2C46fBcAIR"
      }
    },
    {
      "cell_type": "code",
      "source": [
        "x_eu = ['Croatia', 'Italy', 'Estonia', 'Sweden', 'Denmark', 'Greece',\n",
        "      'Slovak Republic', 'Luxembourg', 'Hungary', 'Netherlands', 'Bulgaria',\n",
        "      'Malta', 'Czech Republic', 'Latvia', 'Poland', 'Lithuania', 'Belgium',\n",
        "      'Ireland', 'France', 'Romania', 'Spain', 'Finland', 'Germany', 'Cyprus',\n",
        "      'Slovenia', 'Portugal', 'Austria']\n",
        "\n",
        "eu_co2[x_eu] = eu_co2[x_eu].apply(pd.to_numeric, axis = 1)\n",
        "eu_co2['Year'] = eu_co2['Year'].astype(int)\n",
        "# eu_co2.dtypes"
      ],
      "metadata": {
        "id": "aapK1wtkZtlQ"
      },
      "execution_count": null,
      "outputs": []
    },
    {
      "cell_type": "code",
      "source": [
        "x_nafta = ['Mexico', 'United States', 'Canada']\n",
        "\n",
        "nafta_co2[x_nafta] = nafta_co2[x_nafta].apply(pd.to_numeric, axis = 1)\n",
        "nafta_co2['Year'] = nafta_co2['Year'].astype(int)\n",
        "# nafta_co2.dtypes"
      ],
      "metadata": {
        "id": "rCHHaDzNcWby"
      },
      "execution_count": null,
      "outputs": []
    },
    {
      "cell_type": "code",
      "source": [
        "x_mercosul = ['Venezuela, RB', 'Paraguay', 'Argentina', 'Uruguay', 'Brazil']\n",
        "\n",
        "mercosul_co2[x_mercosul] = mercosul_co2[x_mercosul].apply(pd.to_numeric, axis = 1)\n",
        "mercosul_co2['Year'] = mercosul_co2['Year'].astype(int)\n",
        "# mercosul_co2.dtypes"
      ],
      "metadata": {
        "id": "t1e8OcohdSyt"
      },
      "execution_count": null,
      "outputs": []
    },
    {
      "cell_type": "code",
      "source": [
        "x_apec = ['Vietnam', 'United States', 'Thailand', 'Singapore',\n",
        "       'Russian Federation', 'Philippines', 'Peru', 'Papua New Guinea',\n",
        "       'New Zealand', 'Mexico', 'Malaysia', 'Korea, Rep.', 'Japan',\n",
        "       'Indonesia', 'Hong Kong SAR, China', 'China', 'Chile', 'Canada',\n",
        "       'Brunei Darussalam', 'Australia']\n",
        "\n",
        "apec_co2[x_apec] = apec_co2[x_apec].apply(pd.to_numeric, axis = 1)\n",
        "apec_co2['Year'] = apec_co2['Year'].astype(int)\n",
        "# apec_co2.dtypes"
      ],
      "metadata": {
        "id": "pNodzeMldvLo"
      },
      "execution_count": null,
      "outputs": []
    },
    {
      "cell_type": "code",
      "source": [
        "x_brics = ['South Africa', 'China', 'India', 'Russian Federation',\n",
        "       'Brazil']\n",
        "\n",
        "brics_co2[x_brics] = brics_co2[x_brics].apply(pd.to_numeric, axis = 1)\n",
        "brics_co2['Year'] = brics_co2['Year'].astype(int)\n",
        "# brics_co2.dtypes"
      ],
      "metadata": {
        "id": "itW3JAv9eGq5"
      },
      "execution_count": null,
      "outputs": []
    },
    {
      "cell_type": "code",
      "source": [
        "brics_co2.head()"
      ],
      "metadata": {
        "colab": {
          "base_uri": "https://localhost:8080/",
          "height": 206
        },
        "id": "pEv--UHcvLES",
        "outputId": "5c2463d6-77ef-4da0-bd37-0e48b83a9482"
      },
      "execution_count": null,
      "outputs": [
        {
          "output_type": "execute_result",
          "data": {
            "text/plain": [
              "   Year  South Africa      China     India  Russian Federation    Brazil\n",
              "0  1992      238820.0  2418180.0  626290.0           2030810.0  207870.0\n",
              "1  1993      246490.0  2645410.0  651350.0           1880250.0  215260.0\n",
              "2  1994      252140.0  2767670.0  685900.0           1685050.0  222500.0\n",
              "3  1995      264310.0  3088620.0  737860.0           1635490.0  241280.0\n",
              "4  1996      274110.0  3070510.0  774070.0           1601180.0  262410.0"
            ],
            "text/html": [
              "\n",
              "  <div id=\"df-d45a1b2a-66ee-43f3-b476-5fcc37ebf1e0\">\n",
              "    <div class=\"colab-df-container\">\n",
              "      <div>\n",
              "<style scoped>\n",
              "    .dataframe tbody tr th:only-of-type {\n",
              "        vertical-align: middle;\n",
              "    }\n",
              "\n",
              "    .dataframe tbody tr th {\n",
              "        vertical-align: top;\n",
              "    }\n",
              "\n",
              "    .dataframe thead th {\n",
              "        text-align: right;\n",
              "    }\n",
              "</style>\n",
              "<table border=\"1\" class=\"dataframe\">\n",
              "  <thead>\n",
              "    <tr style=\"text-align: right;\">\n",
              "      <th></th>\n",
              "      <th>Year</th>\n",
              "      <th>South Africa</th>\n",
              "      <th>China</th>\n",
              "      <th>India</th>\n",
              "      <th>Russian Federation</th>\n",
              "      <th>Brazil</th>\n",
              "    </tr>\n",
              "  </thead>\n",
              "  <tbody>\n",
              "    <tr>\n",
              "      <th>0</th>\n",
              "      <td>1992</td>\n",
              "      <td>238820.0</td>\n",
              "      <td>2418180.0</td>\n",
              "      <td>626290.0</td>\n",
              "      <td>2030810.0</td>\n",
              "      <td>207870.0</td>\n",
              "    </tr>\n",
              "    <tr>\n",
              "      <th>1</th>\n",
              "      <td>1993</td>\n",
              "      <td>246490.0</td>\n",
              "      <td>2645410.0</td>\n",
              "      <td>651350.0</td>\n",
              "      <td>1880250.0</td>\n",
              "      <td>215260.0</td>\n",
              "    </tr>\n",
              "    <tr>\n",
              "      <th>2</th>\n",
              "      <td>1994</td>\n",
              "      <td>252140.0</td>\n",
              "      <td>2767670.0</td>\n",
              "      <td>685900.0</td>\n",
              "      <td>1685050.0</td>\n",
              "      <td>222500.0</td>\n",
              "    </tr>\n",
              "    <tr>\n",
              "      <th>3</th>\n",
              "      <td>1995</td>\n",
              "      <td>264310.0</td>\n",
              "      <td>3088620.0</td>\n",
              "      <td>737860.0</td>\n",
              "      <td>1635490.0</td>\n",
              "      <td>241280.0</td>\n",
              "    </tr>\n",
              "    <tr>\n",
              "      <th>4</th>\n",
              "      <td>1996</td>\n",
              "      <td>274110.0</td>\n",
              "      <td>3070510.0</td>\n",
              "      <td>774070.0</td>\n",
              "      <td>1601180.0</td>\n",
              "      <td>262410.0</td>\n",
              "    </tr>\n",
              "  </tbody>\n",
              "</table>\n",
              "</div>\n",
              "      <button class=\"colab-df-convert\" onclick=\"convertToInteractive('df-d45a1b2a-66ee-43f3-b476-5fcc37ebf1e0')\"\n",
              "              title=\"Convert this dataframe to an interactive table.\"\n",
              "              style=\"display:none;\">\n",
              "        \n",
              "  <svg xmlns=\"http://www.w3.org/2000/svg\" height=\"24px\"viewBox=\"0 0 24 24\"\n",
              "       width=\"24px\">\n",
              "    <path d=\"M0 0h24v24H0V0z\" fill=\"none\"/>\n",
              "    <path d=\"M18.56 5.44l.94 2.06.94-2.06 2.06-.94-2.06-.94-.94-2.06-.94 2.06-2.06.94zm-11 1L8.5 8.5l.94-2.06 2.06-.94-2.06-.94L8.5 2.5l-.94 2.06-2.06.94zm10 10l.94 2.06.94-2.06 2.06-.94-2.06-.94-.94-2.06-.94 2.06-2.06.94z\"/><path d=\"M17.41 7.96l-1.37-1.37c-.4-.4-.92-.59-1.43-.59-.52 0-1.04.2-1.43.59L10.3 9.45l-7.72 7.72c-.78.78-.78 2.05 0 2.83L4 21.41c.39.39.9.59 1.41.59.51 0 1.02-.2 1.41-.59l7.78-7.78 2.81-2.81c.8-.78.8-2.07 0-2.86zM5.41 20L4 18.59l7.72-7.72 1.47 1.35L5.41 20z\"/>\n",
              "  </svg>\n",
              "      </button>\n",
              "      \n",
              "  <style>\n",
              "    .colab-df-container {\n",
              "      display:flex;\n",
              "      flex-wrap:wrap;\n",
              "      gap: 12px;\n",
              "    }\n",
              "\n",
              "    .colab-df-convert {\n",
              "      background-color: #E8F0FE;\n",
              "      border: none;\n",
              "      border-radius: 50%;\n",
              "      cursor: pointer;\n",
              "      display: none;\n",
              "      fill: #1967D2;\n",
              "      height: 32px;\n",
              "      padding: 0 0 0 0;\n",
              "      width: 32px;\n",
              "    }\n",
              "\n",
              "    .colab-df-convert:hover {\n",
              "      background-color: #E2EBFA;\n",
              "      box-shadow: 0px 1px 2px rgba(60, 64, 67, 0.3), 0px 1px 3px 1px rgba(60, 64, 67, 0.15);\n",
              "      fill: #174EA6;\n",
              "    }\n",
              "\n",
              "    [theme=dark] .colab-df-convert {\n",
              "      background-color: #3B4455;\n",
              "      fill: #D2E3FC;\n",
              "    }\n",
              "\n",
              "    [theme=dark] .colab-df-convert:hover {\n",
              "      background-color: #434B5C;\n",
              "      box-shadow: 0px 1px 3px 1px rgba(0, 0, 0, 0.15);\n",
              "      filter: drop-shadow(0px 1px 2px rgba(0, 0, 0, 0.3));\n",
              "      fill: #FFFFFF;\n",
              "    }\n",
              "  </style>\n",
              "\n",
              "      <script>\n",
              "        const buttonEl =\n",
              "          document.querySelector('#df-d45a1b2a-66ee-43f3-b476-5fcc37ebf1e0 button.colab-df-convert');\n",
              "        buttonEl.style.display =\n",
              "          google.colab.kernel.accessAllowed ? 'block' : 'none';\n",
              "\n",
              "        async function convertToInteractive(key) {\n",
              "          const element = document.querySelector('#df-d45a1b2a-66ee-43f3-b476-5fcc37ebf1e0');\n",
              "          const dataTable =\n",
              "            await google.colab.kernel.invokeFunction('convertToInteractive',\n",
              "                                                     [key], {});\n",
              "          if (!dataTable) return;\n",
              "\n",
              "          const docLinkHtml = 'Like what you see? Visit the ' +\n",
              "            '<a target=\"_blank\" href=https://colab.research.google.com/notebooks/data_table.ipynb>data table notebook</a>'\n",
              "            + ' to learn more about interactive tables.';\n",
              "          element.innerHTML = '';\n",
              "          dataTable['output_type'] = 'display_data';\n",
              "          await google.colab.output.renderOutput(dataTable, element);\n",
              "          const docLink = document.createElement('div');\n",
              "          docLink.innerHTML = docLinkHtml;\n",
              "          element.appendChild(docLink);\n",
              "        }\n",
              "      </script>\n",
              "    </div>\n",
              "  </div>\n",
              "  "
            ]
          },
          "metadata": {},
          "execution_count": 22
        }
      ]
    },
    {
      "cell_type": "markdown",
      "source": [
        "#Graphs"
      ],
      "metadata": {
        "id": "Jk5qItvBbq6v"
      }
    },
    {
      "cell_type": "code",
      "source": [
        "# print(plt.style.available)"
      ],
      "metadata": {
        "id": "tuRGJGDYtv3n"
      },
      "execution_count": null,
      "outputs": []
    },
    {
      "cell_type": "code",
      "source": [
        "plt.style.use('seaborn-whitegrid')"
      ],
      "metadata": {
        "id": "HsuX4Jfx29XV"
      },
      "execution_count": null,
      "outputs": []
    },
    {
      "cell_type": "markdown",
      "source": [
        "##Brazil"
      ],
      "metadata": {
        "id": "5lq6weiWy29k"
      }
    },
    {
      "cell_type": "code",
      "source": [
        "#Bar Chart\n",
        "x = bra_co2['Year']\n",
        "y = bra_co2['Brazil']\n",
        "plt.figure(figsize=(10,5))\n",
        "colors = ['r' if (bar == max(bra_co2['Brazil'])) \n",
        "              else 'grey' for bar in bra_co2['Brazil']]\n",
        "plt.bar(x,y,color=colors)\n",
        "plt.xlim(start-1,stop-3)\n",
        "plt.ylim(0,None)\n",
        "plt.xticks(range(start, stop-3),\n",
        "           fontsize=14,\n",
        "           rotation=90\n",
        "           )\n",
        "plt.yticks(fontsize=14)\n",
        "# plt.xlabel(\"Year\")\n",
        "plt.ylabel('$CO_{2}\\;(kt)$',\n",
        "           fontsize='xx-large')\n",
        "plt.title(\"$Brazil\\;CO_{2}\\; Emissions$\",\n",
        "          fontsize='xx-large')\n",
        "plt.ticklabel_format(style='plain') \n",
        "plt.grid(False)  \n",
        "plt.savefig('brazil_co2.png',\n",
        "            dpi = 500\n",
        "          )\n",
        "plt.show()"
      ],
      "metadata": {
        "id": "K9_Td3ywkmQC",
        "colab": {
          "base_uri": "https://localhost:8080/"
        },
        "outputId": "4803a93c-09e7-405e-89ab-d2e325aa485e"
      },
      "execution_count": null,
      "outputs": [
        {
          "output_type": "display_data",
          "data": {
            "text/plain": [
              "<Figure size 720x360 with 1 Axes>"
            ],
            "image/png": "[encoded data removed]"
          },
          "metadata": {}
        }
      ]
    },
    {
      "cell_type": "markdown",
      "source": [
        "##EU"
      ],
      "metadata": {
        "id": "YlZgPavhv4mB"
      }
    },
    {
      "cell_type": "code",
      "source": [
        "#Multi-Line Chart\n",
        "x = eu_co2['Year']\n",
        "y1 = eu_co2['Germany']\n",
        "y2 = eu_co2['France']\n",
        "y3 = eu_co2['Italy']\n",
        "y4 = eu_co2['Spain']\n",
        "y5 = eu_co2['Belgium']\n",
        "plt.figure(figsize=(10,5))\n",
        "plt.plot(x,y1,color='blue',label='Germany',linewidth=5)\n",
        "plt.plot(x,y2,color='red',label='France',linewidth=5)\n",
        "plt.plot(x,y3,color='green',label='Italy',linewidth=5)\n",
        "plt.plot(x,y4,color='yellow',label='Spain',linewidth=5)\n",
        "plt.plot(x,y5,color='magenta',label='Belgium',linewidth=5)\n",
        "plt.xlim(start,stop-4)\n",
        "plt.ylim(0,None)\n",
        "plt.xticks(range(start, stop-3),\n",
        "           fontsize=14,\n",
        "           rotation=90\n",
        "           )\n",
        "plt.yticks(fontsize=14)\n",
        "# plt.xlabel(\"Year\")\n",
        "plt.ylabel('$CO_{2}\\;(kt)$',\n",
        "           fontsize='xx-large'\n",
        "           )\n",
        "plt.title(\"$EU\\;CO_{2}\\; Emissions$\",\n",
        "          fontsize='xx-large'\n",
        "          )\n",
        "plt.legend(bbox_to_anchor=(1.05,1), \n",
        "           loc='upper left', \n",
        "           fontsize='xx-large',\n",
        "          )\n",
        "plt.ticklabel_format(style='plain')    # to prevent scientific notation.\n",
        "plt.savefig('eu_co2.png', dpi = 500, #dpi = dots per inch\n",
        "            bbox_to_anchor=(1.05,1), \n",
        "            loc='upper left', \n",
        "            bbox_inches='tight'\n",
        "          ) \n",
        "plt.tight_layout() #tight margins\n",
        "plt.show()"
      ],
      "metadata": {
        "colab": {
          "base_uri": "https://localhost:8080/"
        },
        "id": "Eo8j8jfZv90n",
        "outputId": "8241e952-3a5b-4cfb-e30d-c6009161f7c6"
      },
      "execution_count": null,
      "outputs": [
        {
          "output_type": "display_data",
          "data": {
            "text/plain": [
              "<Figure size 720x360 with 1 Axes>"
            ],
            "image/png": "[encoded data removed]"
          },
          "metadata": {}
        }
      ]
    },
    {
      "cell_type": "markdown",
      "source": [
        "##Mercosul"
      ],
      "metadata": {
        "id": "qxhy1J1RwDsT"
      }
    },
    {
      "cell_type": "code",
      "source": [
        "#Multi-Line Chart\n",
        "x = mercosul_co2['Year']\n",
        "y1 = mercosul_co2['Brazil']\n",
        "y2 = mercosul_co2['Argentina']\n",
        "y3 = mercosul_co2['Uruguay']\n",
        "y4 = mercosul_co2['Paraguay']\n",
        "y5 = mercosul_co2['Venezuela, RB']\n",
        "plt.figure(figsize=(10,5))\n",
        "plt.plot(x,y1,color='blue',label='Brazil',linewidth=5)\n",
        "plt.plot(x,y2,color='red',label='Argentina',linewidth=5)\n",
        "plt.plot(x,y3,color='green',label='Uruguay',linewidth=5)\n",
        "plt.plot(x,y4,color='yellow',label='Paraguay',linewidth=5)\n",
        "plt.plot(x,y5,color='magenta',label='Venezuela, RB',linewidth=5)\n",
        "plt.xlim(start,stop-4)\n",
        "plt.ylim(0,None)\n",
        "plt.xticks(range(start, stop-3),\n",
        "           fontsize=14,\n",
        "           rotation=90\n",
        "           )\n",
        "plt.yticks(fontsize=14)\n",
        "# plt.xlabel(\"Year\")\n",
        "plt.ylabel('$CO_{2}\\;(kt)$',\n",
        "           fontsize='xx-large'\n",
        "           )\n",
        "plt.title(\"$Mercosul\\;CO_{2}\\; Emissions$\",\n",
        "          fontsize='xx-large'\n",
        "          )\n",
        "plt.legend(bbox_to_anchor=(1.05,1),\n",
        "           loc='upper left',\n",
        "           fontsize='xx-large'\n",
        "           )\n",
        "plt.ticklabel_format(style='plain')    # to prevent scientific notation.\n",
        "plt.savefig('mercosul_co2.png', dpi = 500, #dpi = dots per inch\n",
        "            bbox_to_anchor=(1.05,1), \n",
        "            loc='upper left', \n",
        "            bbox_inches='tight'\n",
        "          ) \n",
        "plt.show()"
      ],
      "metadata": {
        "colab": {
          "base_uri": "https://localhost:8080/"
        },
        "id": "ewRnqxB8wHQq",
        "outputId": "8f6d2b18-ba69-46be-b682-9dc487b7b937"
      },
      "execution_count": null,
      "outputs": [
        {
          "output_type": "display_data",
          "data": {
            "text/plain": [
              "<Figure size 720x360 with 1 Axes>"
            ],
            "image/png": "[encoded data removed]"
          },
          "metadata": {}
        }
      ]
    },
    {
      "cell_type": "markdown",
      "source": [
        "##NAFTA"
      ],
      "metadata": {
        "id": "Pbza5d2wwLgv"
      }
    },
    {
      "cell_type": "code",
      "source": [
        "#Multi-Line Chart\n",
        "x = nafta_co2['Year']\n",
        "y1 = nafta_co2['United States']\n",
        "y2 = nafta_co2['Mexico']\n",
        "y3 = nafta_co2['Canada']\n",
        "plt.figure(figsize=(10,5))\n",
        "plt.plot(x,y1,color='blue',label='United States',linewidth=5)\n",
        "plt.plot(x,y2,color='red',label='Mexico',linewidth=5)\n",
        "plt.plot(x,y3,color='green',label='Canada',linewidth=5)\n",
        "plt.xlim(start,stop-4)\n",
        "plt.ylim(0,None)\n",
        "plt.xticks(range(start, stop-3),\n",
        "           fontsize=14,\n",
        "           rotation=90\n",
        "           )\n",
        "plt.yticks(fontsize=14)\n",
        "# plt.xlabel(\"Year\")\n",
        "plt.ylabel('$CO_{2}\\;(kt)$',\n",
        "           fontsize='xx-large'\n",
        "           )\n",
        "plt.title(\"$NAFTA\\;CO_{2}\\; Emissions$\",\n",
        "          fontsize='xx-large'\n",
        "          )\n",
        "plt.legend(bbox_to_anchor=(1.05,1),\n",
        "           loc='upper left',\n",
        "           fontsize='xx-large'\n",
        "           )\n",
        "plt.ticklabel_format(style='plain')    # to prevent scientific notation.\n",
        "plt.savefig('nafta_co2.png', dpi = 200, #dpi = dots per inch\n",
        "            bbox_to_anchor=(1.05,1), \n",
        "            loc='upper left', \n",
        "            bbox_inches='tight'\n",
        "          ) \n",
        "plt.show()"
      ],
      "metadata": {
        "colab": {
          "base_uri": "https://localhost:8080/"
        },
        "id": "gR7F1EWmwQNx",
        "outputId": "3ffe85ef-3e47-4903-8c24-64775c51cd15"
      },
      "execution_count": null,
      "outputs": [
        {
          "output_type": "display_data",
          "data": {
            "text/plain": [
              "<Figure size 720x360 with 1 Axes>"
            ],
            "image/png": "[encoded data removed]"
          },
          "metadata": {}
        }
      ]
    },
    {
      "cell_type": "markdown",
      "source": [
        "##APEC"
      ],
      "metadata": {
        "id": "tUXGVd-wwUEJ"
      }
    },
    {
      "cell_type": "code",
      "source": [
        "#Multi-Line Chart\n",
        "x = apec_co2['Year']\n",
        "y1 = apec_co2['United States']\n",
        "y2 = apec_co2['China']\n",
        "y3 = apec_co2['Australia']\n",
        "y4 = apec_co2['Japan']\n",
        "y5 = apec_co2['Chile']\n",
        "plt.figure(figsize=(10,5))\n",
        "plt.plot(x,y1,color='blue',label='United States',linewidth=5)\n",
        "plt.plot(x,y2,color='red',label='China',linewidth=5)\n",
        "plt.plot(x,y3,color='green',label='Australia',linewidth=5)\n",
        "plt.plot(x,y4,color='yellow',label='Japan',linewidth=5)\n",
        "plt.plot(x,y5,color='magenta',label='Chile',linewidth=5)\n",
        "plt.xlim(start,stop-4)\n",
        "plt.ylim(0,None)\n",
        "plt.xticks(range(start, stop-3),\n",
        "           fontsize=14,\n",
        "           rotation=90\n",
        "           )\n",
        "plt.yticks(fontsize=14)\n",
        "# plt.xlabel(\"Year\")\n",
        "plt.ylabel('$CO_{2}\\;(kt)$',\n",
        "           fontsize='xx-large'\n",
        "           )\n",
        "plt.title(\"$APEC\\;CO_{2}\\; Emissions$\",\n",
        "          fontsize='xx-large'\n",
        "          )\n",
        "plt.legend(bbox_to_anchor=(1.05,1),\n",
        "           loc='upper left',\n",
        "           fontsize='xx-large'\n",
        "           )\n",
        "plt.ticklabel_format(style='plain')    # to prevent scientific notation.\n",
        "plt.savefig('apec_co2.png', dpi = 200, #dpi = dots per inch\n",
        "            bbox_to_anchor=(1.05,1), \n",
        "            loc='upper left', \n",
        "            bbox_inches='tight'\n",
        "          ) \n",
        "plt.show()"
      ],
      "metadata": {
        "colab": {
          "base_uri": "https://localhost:8080/"
        },
        "id": "uCtDCwiXwY9y",
        "outputId": "9c39e767-7bf7-408c-81e6-fdce133dd10e"
      },
      "execution_count": null,
      "outputs": [
        {
          "output_type": "display_data",
          "data": {
            "text/plain": [
              "<Figure size 720x360 with 1 Axes>"
            ],
            "image/png": "[encoded data removed]"
          },
          "metadata": {}
        }
      ]
    },
    {
      "cell_type": "markdown",
      "source": [
        "##BRICS"
      ],
      "metadata": {
        "id": "V_G4w3oAwPLw"
      }
    },
    {
      "cell_type": "code",
      "source": [
        "#Multi-Line Chart\n",
        "x = brics_co2['Year']\n",
        "y1 = brics_co2['China']\n",
        "y2 = brics_co2['India']\n",
        "y3 = brics_co2['Brazil']\n",
        "y4 = brics_co2['Russian Federation']\n",
        "y5 = brics_co2['South Africa']\n",
        "plt.figure(figsize=(12,6))\n",
        "plt.plot(x,y1,color='blue',label='China',linewidth=5)\n",
        "plt.plot(x,y2,color='red',label='India',linewidth=5)\n",
        "plt.plot(x,y3,color='green',label='Brazil',linewidth=5)\n",
        "plt.plot(x,y4,color='yellow',label='Russian Federation',linewidth=5)\n",
        "plt.plot(x,y5,color='magenta',label='South Africa',linewidth=5)\n",
        "plt.xlim(start,stop-4)\n",
        "plt.ylim(0,None)\n",
        "plt.xticks(range(start, stop-3),\n",
        "           fontsize=14,\n",
        "           rotation=90\n",
        "           )\n",
        "plt.yticks(fontsize=14)\n",
        "# plt.xlabel(\"Year\")\n",
        "plt.ylabel('$CO_{2}\\;(kt)$',\n",
        "           fontsize='xx-large'\n",
        "           )\n",
        "plt.title(\"$BRICS\\;CO_{2}\\; Emissions$\",\n",
        "          fontsize='xx-large'\n",
        "          )\n",
        "plt.legend(bbox_to_anchor=(1.05,1),\n",
        "           loc='upper left',\n",
        "           fontsize='xx-large'\n",
        "           )\n",
        "plt.ticklabel_format(style='plain')    # to prevent scientific notation.\n",
        "plt.tight_layout()\n",
        "plt.savefig('brics_co2.png', dpi = 200, #dpi = dots per inch\n",
        "            bbox_to_anchor=(1.05,1), \n",
        "            loc='upper left', \n",
        "            bbox_inches='tight'\n",
        "          ) \n",
        "plt.show()"
      ],
      "metadata": {
        "colab": {
          "base_uri": "https://localhost:8080/"
        },
        "id": "W_-v9K7awO0S",
        "outputId": "6c10c646-c3a9-4a02-d2b0-ca029fadc175"
      },
      "execution_count": null,
      "outputs": [
        {
          "output_type": "display_data",
          "data": {
            "text/plain": [
              "<Figure size 864x432 with 1 Axes>"
            ],
            "image/png": "[encoded data removed]"
          },
          "metadata": {}
        }
      ]
    },
    {
      "cell_type": "markdown",
      "source": [
        "#Tables"
      ],
      "metadata": {
        "id": "J-vLNRQefZ1S"
      }
    },
    {
      "cell_type": "code",
      "source": [
        "ger = (eu_co2.iloc[26]['Germany'] / eu_co2['Germany'][df.index[0]])*100\n",
        "fra = (eu_co2.iloc[26]['France'] / eu_co2['France'][df.index[0]])*100 \n",
        "ita = (eu_co2.iloc[26]['Italy'] / eu_co2['Italy'][df.index[0]])*100\n",
        "spa = (eu_co2.iloc[26]['Spain'] / eu_co2['Spain'][df.index[0]])*100\n",
        "bel = (eu_co2.iloc[26]['Belgium'] / eu_co2['Belgium'][df.index[0]])*100\n",
        "bra = (mercosul_co2.iloc[26]['Brazil'] / mercosul_co2['Brazil'][df.index[0]])*100\n",
        "arg = (mercosul_co2.iloc[26]['Argentina'] / mercosul_co2['Argentina'][df.index[0]])*100\n",
        "ven = (mercosul_co2.iloc[26]['Venezuela, RB'] / mercosul_co2['Venezuela, RB'][df.index[0]])*100\n",
        "uru = (mercosul_co2.iloc[26]['Uruguay'] / mercosul_co2['Uruguay'][df.index[0]])*100\n",
        "par = (mercosul_co2.iloc[26]['Paraguay']/ mercosul_co2['Paraguay'][df.index[0]])*100\n",
        "usa = (nafta_co2.iloc[26]['United States'] / nafta_co2['United States'][df.index[0]])*100\n",
        "can = (nafta_co2.iloc[26]['Canada'] / nafta_co2['Canada'][df.index[0]])*100\n",
        "mex = (nafta_co2.iloc[26]['Mexico'] / nafta_co2['Mexico'][df.index[0]])*100\n",
        "chi = (apec_co2.iloc[26]['China'] / apec_co2['China'][df.index[0]])*100\n",
        "aus = (apec_co2.iloc[26]['Australia'] / apec_co2['Australia'][df.index[0]])*100\n",
        "jap = (apec_co2.iloc[26]['Japan'] / apec_co2['Japan'][df.index[0]])*100\n",
        "chile = (apec_co2.iloc[26]['Chile'] / apec_co2['Chile'][df.index[0]])*100\n",
        "rus = (brics_co2.iloc[26]['Russian Federation'] / brics_co2['Russian Federation'][df.index[0]])*100\n",
        "ind = (brics_co2.iloc[26]['India'] / brics_co2['India'][df.index[0]])*100\n",
        "saf = (brics_co2.iloc[26]['South Africa'] / brics_co2['South Africa'][df.index[0]])*100\n",
        "#Maximum emission\n",
        "# increase_par = max(mercosul_co2['Paraguay']) / mercosul_co2['Paraguay'][df.index[0]]\n",
        "# increase_par"
      ],
      "metadata": {
        "id": "5Ifyf2DD8TtW"
      },
      "execution_count": null,
      "outputs": []
    },
    {
      "cell_type": "code",
      "source": [
        "data = {'País':['Germany','France','Italy','Spain','Belgium','Brazil',\n",
        "                   'Argentina','Venezuela, RB','Uruguay','Paraguay','United States',\n",
        "                   'Canada','Mexico','China','Australia','Japan','Chile','Russian Federation',\n",
        "                   'India','South Africa'], \n",
        "        'Emissões de CO2 em 2018 (kt)':[eu_co2.iloc[26]['Germany'],eu_co2.iloc[26]['France'],eu_co2.iloc[26]['Italy'],eu_co2.iloc[26]['Spain'],\n",
        "                    eu_co2.iloc[26]['Belgium'],mercosul_co2.iloc[26]['Brazil'],mercosul_co2.iloc[26]['Argentina'],mercosul_co2.iloc[26]['Venezuela, RB'],\n",
        "                    mercosul_co2.iloc[26]['Uruguay'],mercosul_co2.iloc[26]['Paraguay'],nafta_co2.iloc[26]['United States'],nafta_co2.iloc[26]['Canada'],\n",
        "                    nafta_co2.iloc[26]['Mexico'],apec_co2.iloc[26]['China'],apec_co2.iloc[26]['Australia'],apec_co2.iloc[26]['Japan'],apec_co2.iloc[26]['Chile'],\n",
        "                    brics_co2.iloc[26]['Russian Federation'],brics_co2.iloc[26]['India'],brics_co2.iloc[26]['South Africa']],\n",
        "        'Comparativo 2018/1992 (%)':[ger,fra,ita,spa,bel,bra,arg,ven,uru,par,usa,can,mex,chi,aus,jap,chile,rus,ind,saf]}  \n",
        "df = pd.DataFrame(data)\n",
        "df.head(10)"
      ],
      "metadata": {
        "colab": {
          "base_uri": "https://localhost:8080/",
          "height": 363
        },
        "id": "UkMc_XheMDSQ",
        "outputId": "60f81877-5173-432e-976a-c573b8b88f70"
      },
      "execution_count": null,
      "outputs": [
        {
          "output_type": "execute_result",
          "data": {
            "text/plain": [
              "            País  Emissões de CO2 em 2018 (kt)  Comparativo 2018/1992 (%)\n",
              "0        Germany                 707700.012207                  79.265699\n",
              "1         France                 307049.987793                  83.303939\n",
              "2          Italy                 324880.004883                  80.761679\n",
              "3          Spain                 257040.008545                 110.616693\n",
              "4        Belgium                  93660.003662                  83.379332\n",
              "5         Brazil                 433989.990234                 208.779521\n",
              "6      Argentina                 176899.993896                 163.902524\n",
              "7  Venezuela, RB                 132130.004883                 128.144705\n",
              "8        Uruguay                   6539.999962                 137.106917\n",
              "9       Paraguay                   8470.000267                 342.914991"
            ],
            "text/html": [
              "\n",
              "  <div id=\"df-28a56a02-2447-4169-a32a-8277354ba787\">\n",
              "    <div class=\"colab-df-container\">\n",
              "      <div>\n",
              "<style scoped>\n",
              "    .dataframe tbody tr th:only-of-type {\n",
              "        vertical-align: middle;\n",
              "    }\n",
              "\n",
              "    .dataframe tbody tr th {\n",
              "        vertical-align: top;\n",
              "    }\n",
              "\n",
              "    .dataframe thead th {\n",
              "        text-align: right;\n",
              "    }\n",
              "</style>\n",
              "<table border=\"1\" class=\"dataframe\">\n",
              "  <thead>\n",
              "    <tr style=\"text-align: right;\">\n",
              "      <th></th>\n",
              "      <th>País</th>\n",
              "      <th>Emissões de CO2 em 2018 (kt)</th>\n",
              "      <th>Comparativo 2018/1992 (%)</th>\n",
              "    </tr>\n",
              "  </thead>\n",
              "  <tbody>\n",
              "    <tr>\n",
              "      <th>0</th>\n",
              "      <td>Germany</td>\n",
              "      <td>707700.012207</td>\n",
              "      <td>79.265699</td>\n",
              "    </tr>\n",
              "    <tr>\n",
              "      <th>1</th>\n",
              "      <td>France</td>\n",
              "      <td>307049.987793</td>\n",
              "      <td>83.303939</td>\n",
              "    </tr>\n",
              "    <tr>\n",
              "      <th>2</th>\n",
              "      <td>Italy</td>\n",
              "      <td>324880.004883</td>\n",
              "      <td>80.761679</td>\n",
              "    </tr>\n",
              "    <tr>\n",
              "      <th>3</th>\n",
              "      <td>Spain</td>\n",
              "      <td>257040.008545</td>\n",
              "      <td>110.616693</td>\n",
              "    </tr>\n",
              "    <tr>\n",
              "      <th>4</th>\n",
              "      <td>Belgium</td>\n",
              "      <td>93660.003662</td>\n",
              "      <td>83.379332</td>\n",
              "    </tr>\n",
              "    <tr>\n",
              "      <th>5</th>\n",
              "      <td>Brazil</td>\n",
              "      <td>433989.990234</td>\n",
              "      <td>208.779521</td>\n",
              "    </tr>\n",
              "    <tr>\n",
              "      <th>6</th>\n",
              "      <td>Argentina</td>\n",
              "      <td>176899.993896</td>\n",
              "      <td>163.902524</td>\n",
              "    </tr>\n",
              "    <tr>\n",
              "      <th>7</th>\n",
              "      <td>Venezuela, RB</td>\n",
              "      <td>132130.004883</td>\n",
              "      <td>128.144705</td>\n",
              "    </tr>\n",
              "    <tr>\n",
              "      <th>8</th>\n",
              "      <td>Uruguay</td>\n",
              "      <td>6539.999962</td>\n",
              "      <td>137.106917</td>\n",
              "    </tr>\n",
              "    <tr>\n",
              "      <th>9</th>\n",
              "      <td>Paraguay</td>\n",
              "      <td>8470.000267</td>\n",
              "      <td>342.914991</td>\n",
              "    </tr>\n",
              "  </tbody>\n",
              "</table>\n",
              "</div>\n",
              "      <button class=\"colab-df-convert\" onclick=\"convertToInteractive('df-28a56a02-2447-4169-a32a-8277354ba787')\"\n",
              "              title=\"Convert this dataframe to an interactive table.\"\n",
              "              style=\"display:none;\">\n",
              "        \n",
              "  <svg xmlns=\"http://www.w3.org/2000/svg\" height=\"24px\"viewBox=\"0 0 24 24\"\n",
              "       width=\"24px\">\n",
              "    <path d=\"M0 0h24v24H0V0z\" fill=\"none\"/>\n",
              "    <path d=\"M18.56 5.44l.94 2.06.94-2.06 2.06-.94-2.06-.94-.94-2.06-.94 2.06-2.06.94zm-11 1L8.5 8.5l.94-2.06 2.06-.94-2.06-.94L8.5 2.5l-.94 2.06-2.06.94zm10 10l.94 2.06.94-2.06 2.06-.94-2.06-.94-.94-2.06-.94 2.06-2.06.94z\"/><path d=\"M17.41 7.96l-1.37-1.37c-.4-.4-.92-.59-1.43-.59-.52 0-1.04.2-1.43.59L10.3 9.45l-7.72 7.72c-.78.78-.78 2.05 0 2.83L4 21.41c.39.39.9.59 1.41.59.51 0 1.02-.2 1.41-.59l7.78-7.78 2.81-2.81c.8-.78.8-2.07 0-2.86zM5.41 20L4 18.59l7.72-7.72 1.47 1.35L5.41 20z\"/>\n",
              "  </svg>\n",
              "      </button>\n",
              "      \n",
              "  <style>\n",
              "    .colab-df-container {\n",
              "      display:flex;\n",
              "      flex-wrap:wrap;\n",
              "      gap: 12px;\n",
              "    }\n",
              "\n",
              "    .colab-df-convert {\n",
              "      background-color: #E8F0FE;\n",
              "      border: none;\n",
              "      border-radius: 50%;\n",
              "      cursor: pointer;\n",
              "      display: none;\n",
              "      fill: #1967D2;\n",
              "      height: 32px;\n",
              "      padding: 0 0 0 0;\n",
              "      width: 32px;\n",
              "    }\n",
              "\n",
              "    .colab-df-convert:hover {\n",
              "      background-color: #E2EBFA;\n",
              "      box-shadow: 0px 1px 2px rgba(60, 64, 67, 0.3), 0px 1px 3px 1px rgba(60, 64, 67, 0.15);\n",
              "      fill: #174EA6;\n",
              "    }\n",
              "\n",
              "    [theme=dark] .colab-df-convert {\n",
              "      background-color: #3B4455;\n",
              "      fill: #D2E3FC;\n",
              "    }\n",
              "\n",
              "    [theme=dark] .colab-df-convert:hover {\n",
              "      background-color: #434B5C;\n",
              "      box-shadow: 0px 1px 3px 1px rgba(0, 0, 0, 0.15);\n",
              "      filter: drop-shadow(0px 1px 2px rgba(0, 0, 0, 0.3));\n",
              "      fill: #FFFFFF;\n",
              "    }\n",
              "  </style>\n",
              "\n",
              "      <script>\n",
              "        const buttonEl =\n",
              "          document.querySelector('#df-28a56a02-2447-4169-a32a-8277354ba787 button.colab-df-convert');\n",
              "        buttonEl.style.display =\n",
              "          google.colab.kernel.accessAllowed ? 'block' : 'none';\n",
              "\n",
              "        async function convertToInteractive(key) {\n",
              "          const element = document.querySelector('#df-28a56a02-2447-4169-a32a-8277354ba787');\n",
              "          const dataTable =\n",
              "            await google.colab.kernel.invokeFunction('convertToInteractive',\n",
              "                                                     [key], {});\n",
              "          if (!dataTable) return;\n",
              "\n",
              "          const docLinkHtml = 'Like what you see? Visit the ' +\n",
              "            '<a target=\"_blank\" href=https://colab.research.google.com/notebooks/data_table.ipynb>data table notebook</a>'\n",
              "            + ' to learn more about interactive tables.';\n",
              "          element.innerHTML = '';\n",
              "          dataTable['output_type'] = 'display_data';\n",
              "          await google.colab.output.renderOutput(dataTable, element);\n",
              "          const docLink = document.createElement('div');\n",
              "          docLink.innerHTML = docLinkHtml;\n",
              "          element.appendChild(docLink);\n",
              "        }\n",
              "      </script>\n",
              "    </div>\n",
              "  </div>\n",
              "  "
            ]
          },
          "metadata": {},
          "execution_count": 32
        }
      ]
    },
    {
      "cell_type": "code",
      "source": [
        "df_co2 = df.nlargest(10, 'Emissões de CO2 em 2018 (kt)')\n",
        "df_co2.to_csv('./df_co2.csv')\n",
        "df_co2.head(10)"
      ],
      "metadata": {
        "colab": {
          "base_uri": "https://localhost:8080/",
          "height": 363
        },
        "id": "4eGwr2U8QqSO",
        "outputId": "6376a9d1-a643-4345-8c9f-073d73dc1534"
      },
      "execution_count": null,
      "outputs": [
        {
          "output_type": "execute_result",
          "data": {
            "text/plain": [
              "                  País  Emissões de CO2 em 2018 (kt)  \\\n",
              "13               China                  1.050293e+07   \n",
              "10       United States                  4.975310e+06   \n",
              "18               India                  2.451930e+06   \n",
              "17  Russian Federation                  1.661000e+06   \n",
              "15               Japan                  1.116150e+06   \n",
              "0              Germany                  7.077000e+05   \n",
              "11              Canada                  5.800900e+05   \n",
              "12              Mexico                  4.525700e+05   \n",
              "19        South Africa                  4.343500e+05   \n",
              "5               Brazil                  4.339900e+05   \n",
              "\n",
              "    Comparativo 2018/1992 (%)  \n",
              "13                 434.332005  \n",
              "10                 101.960806  \n",
              "18                 391.500732  \n",
              "17                  81.790025  \n",
              "15                 100.097755  \n",
              "0                   79.265699  \n",
              "11                 136.053200  \n",
              "12                 155.159767  \n",
              "19                 181.873380  \n",
              "5                  208.779521  "
            ],
            "text/html": [
              "\n",
              "  <div id=\"df-0e8834e9-5d37-49b4-9748-22a80c7c86ae\">\n",
              "    <div class=\"colab-df-container\">\n",
              "      <div>\n",
              "<style scoped>\n",
              "    .dataframe tbody tr th:only-of-type {\n",
              "        vertical-align: middle;\n",
              "    }\n",
              "\n",
              "    .dataframe tbody tr th {\n",
              "        vertical-align: top;\n",
              "    }\n",
              "\n",
              "    .dataframe thead th {\n",
              "        text-align: right;\n",
              "    }\n",
              "</style>\n",
              "<table border=\"1\" class=\"dataframe\">\n",
              "  <thead>\n",
              "    <tr style=\"text-align: right;\">\n",
              "      <th></th>\n",
              "      <th>País</th>\n",
              "      <th>Emissões de CO2 em 2018 (kt)</th>\n",
              "      <th>Comparativo 2018/1992 (%)</th>\n",
              "    </tr>\n",
              "  </thead>\n",
              "  <tbody>\n",
              "    <tr>\n",
              "      <th>13</th>\n",
              "      <td>China</td>\n",
              "      <td>1.050293e+07</td>\n",
              "      <td>434.332005</td>\n",
              "    </tr>\n",
              "    <tr>\n",
              "      <th>10</th>\n",
              "      <td>United States</td>\n",
              "      <td>4.975310e+06</td>\n",
              "      <td>101.960806</td>\n",
              "    </tr>\n",
              "    <tr>\n",
              "      <th>18</th>\n",
              "      <td>India</td>\n",
              "      <td>2.451930e+06</td>\n",
              "      <td>391.500732</td>\n",
              "    </tr>\n",
              "    <tr>\n",
              "      <th>17</th>\n",
              "      <td>Russian Federation</td>\n",
              "      <td>1.661000e+06</td>\n",
              "      <td>81.790025</td>\n",
              "    </tr>\n",
              "    <tr>\n",
              "      <th>15</th>\n",
              "      <td>Japan</td>\n",
              "      <td>1.116150e+06</td>\n",
              "      <td>100.097755</td>\n",
              "    </tr>\n",
              "    <tr>\n",
              "      <th>0</th>\n",
              "      <td>Germany</td>\n",
              "      <td>7.077000e+05</td>\n",
              "      <td>79.265699</td>\n",
              "    </tr>\n",
              "    <tr>\n",
              "      <th>11</th>\n",
              "      <td>Canada</td>\n",
              "      <td>5.800900e+05</td>\n",
              "      <td>136.053200</td>\n",
              "    </tr>\n",
              "    <tr>\n",
              "      <th>12</th>\n",
              "      <td>Mexico</td>\n",
              "      <td>4.525700e+05</td>\n",
              "      <td>155.159767</td>\n",
              "    </tr>\n",
              "    <tr>\n",
              "      <th>19</th>\n",
              "      <td>South Africa</td>\n",
              "      <td>4.343500e+05</td>\n",
              "      <td>181.873380</td>\n",
              "    </tr>\n",
              "    <tr>\n",
              "      <th>5</th>\n",
              "      <td>Brazil</td>\n",
              "      <td>4.339900e+05</td>\n",
              "      <td>208.779521</td>\n",
              "    </tr>\n",
              "  </tbody>\n",
              "</table>\n",
              "</div>\n",
              "      <button class=\"colab-df-convert\" onclick=\"convertToInteractive('df-0e8834e9-5d37-49b4-9748-22a80c7c86ae')\"\n",
              "              title=\"Convert this dataframe to an interactive table.\"\n",
              "              style=\"display:none;\">\n",
              "        \n",
              "  <svg xmlns=\"http://www.w3.org/2000/svg\" height=\"24px\"viewBox=\"0 0 24 24\"\n",
              "       width=\"24px\">\n",
              "    <path d=\"M0 0h24v24H0V0z\" fill=\"none\"/>\n",
              "    <path d=\"M18.56 5.44l.94 2.06.94-2.06 2.06-.94-2.06-.94-.94-2.06-.94 2.06-2.06.94zm-11 1L8.5 8.5l.94-2.06 2.06-.94-2.06-.94L8.5 2.5l-.94 2.06-2.06.94zm10 10l.94 2.06.94-2.06 2.06-.94-2.06-.94-.94-2.06-.94 2.06-2.06.94z\"/><path d=\"M17.41 7.96l-1.37-1.37c-.4-.4-.92-.59-1.43-.59-.52 0-1.04.2-1.43.59L10.3 9.45l-7.72 7.72c-.78.78-.78 2.05 0 2.83L4 21.41c.39.39.9.59 1.41.59.51 0 1.02-.2 1.41-.59l7.78-7.78 2.81-2.81c.8-.78.8-2.07 0-2.86zM5.41 20L4 18.59l7.72-7.72 1.47 1.35L5.41 20z\"/>\n",
              "  </svg>\n",
              "      </button>\n",
              "      \n",
              "  <style>\n",
              "    .colab-df-container {\n",
              "      display:flex;\n",
              "      flex-wrap:wrap;\n",
              "      gap: 12px;\n",
              "    }\n",
              "\n",
              "    .colab-df-convert {\n",
              "      background-color: #E8F0FE;\n",
              "      border: none;\n",
              "      border-radius: 50%;\n",
              "      cursor: pointer;\n",
              "      display: none;\n",
              "      fill: #1967D2;\n",
              "      height: 32px;\n",
              "      padding: 0 0 0 0;\n",
              "      width: 32px;\n",
              "    }\n",
              "\n",
              "    .colab-df-convert:hover {\n",
              "      background-color: #E2EBFA;\n",
              "      box-shadow: 0px 1px 2px rgba(60, 64, 67, 0.3), 0px 1px 3px 1px rgba(60, 64, 67, 0.15);\n",
              "      fill: #174EA6;\n",
              "    }\n",
              "\n",
              "    [theme=dark] .colab-df-convert {\n",
              "      background-color: #3B4455;\n",
              "      fill: #D2E3FC;\n",
              "    }\n",
              "\n",
              "    [theme=dark] .colab-df-convert:hover {\n",
              "      background-color: #434B5C;\n",
              "      box-shadow: 0px 1px 3px 1px rgba(0, 0, 0, 0.15);\n",
              "      filter: drop-shadow(0px 1px 2px rgba(0, 0, 0, 0.3));\n",
              "      fill: #FFFFFF;\n",
              "    }\n",
              "  </style>\n",
              "\n",
              "      <script>\n",
              "        const buttonEl =\n",
              "          document.querySelector('#df-0e8834e9-5d37-49b4-9748-22a80c7c86ae button.colab-df-convert');\n",
              "        buttonEl.style.display =\n",
              "          google.colab.kernel.accessAllowed ? 'block' : 'none';\n",
              "\n",
              "        async function convertToInteractive(key) {\n",
              "          const element = document.querySelector('#df-0e8834e9-5d37-49b4-9748-22a80c7c86ae');\n",
              "          const dataTable =\n",
              "            await google.colab.kernel.invokeFunction('convertToInteractive',\n",
              "                                                     [key], {});\n",
              "          if (!dataTable) return;\n",
              "\n",
              "          const docLinkHtml = 'Like what you see? Visit the ' +\n",
              "            '<a target=\"_blank\" href=https://colab.research.google.com/notebooks/data_table.ipynb>data table notebook</a>'\n",
              "            + ' to learn more about interactive tables.';\n",
              "          element.innerHTML = '';\n",
              "          dataTable['output_type'] = 'display_data';\n",
              "          await google.colab.output.renderOutput(dataTable, element);\n",
              "          const docLink = document.createElement('div');\n",
              "          docLink.innerHTML = docLinkHtml;\n",
              "          element.appendChild(docLink);\n",
              "        }\n",
              "      </script>\n",
              "    </div>\n",
              "  </div>\n",
              "  "
            ]
          },
          "metadata": {},
          "execution_count": 33
        }
      ]
    },
    {
      "cell_type": "code",
      "source": [
        "df_year = df.nlargest(10, 'Comparativo 2018/1992 (%)')\n",
        "df_year.to_csv('./df_year.csv')\n",
        "df_year.head(10)"
      ],
      "metadata": {
        "colab": {
          "base_uri": "https://localhost:8080/",
          "height": 363
        },
        "id": "QQIR4fmgVuDr",
        "outputId": "1eb8c0cd-d94f-40c9-e28d-8da626179dc3"
      },
      "execution_count": null,
      "outputs": [
        {
          "output_type": "execute_result",
          "data": {
            "text/plain": [
              "            País  Emissões de CO2 em 2018 (kt)  Comparativo 2018/1992 (%)\n",
              "13         China                  1.050293e+07                 434.332005\n",
              "18         India                  2.451930e+06                 391.500732\n",
              "9       Paraguay                  8.470000e+03                 342.914991\n",
              "16         Chile                  8.661000e+04                 285.653036\n",
              "5         Brazil                  4.339900e+05                 208.779521\n",
              "19  South Africa                  4.343500e+05                 181.873380\n",
              "6      Argentina                  1.769000e+05                 163.902524\n",
              "12        Mexico                  4.525700e+05                 155.159767\n",
              "14     Australia                  3.870700e+05                 144.213863\n",
              "8        Uruguay                  6.540000e+03                 137.106917"
            ],
            "text/html": [
              "\n",
              "  <div id=\"df-6a63f118-0bca-41fd-a600-d5c05204e475\">\n",
              "    <div class=\"colab-df-container\">\n",
              "      <div>\n",
              "<style scoped>\n",
              "    .dataframe tbody tr th:only-of-type {\n",
              "        vertical-align: middle;\n",
              "    }\n",
              "\n",
              "    .dataframe tbody tr th {\n",
              "        vertical-align: top;\n",
              "    }\n",
              "\n",
              "    .dataframe thead th {\n",
              "        text-align: right;\n",
              "    }\n",
              "</style>\n",
              "<table border=\"1\" class=\"dataframe\">\n",
              "  <thead>\n",
              "    <tr style=\"text-align: right;\">\n",
              "      <th></th>\n",
              "      <th>País</th>\n",
              "      <th>Emissões de CO2 em 2018 (kt)</th>\n",
              "      <th>Comparativo 2018/1992 (%)</th>\n",
              "    </tr>\n",
              "  </thead>\n",
              "  <tbody>\n",
              "    <tr>\n",
              "      <th>13</th>\n",
              "      <td>China</td>\n",
              "      <td>1.050293e+07</td>\n",
              "      <td>434.332005</td>\n",
              "    </tr>\n",
              "    <tr>\n",
              "      <th>18</th>\n",
              "      <td>India</td>\n",
              "      <td>2.451930e+06</td>\n",
              "      <td>391.500732</td>\n",
              "    </tr>\n",
              "    <tr>\n",
              "      <th>9</th>\n",
              "      <td>Paraguay</td>\n",
              "      <td>8.470000e+03</td>\n",
              "      <td>342.914991</td>\n",
              "    </tr>\n",
              "    <tr>\n",
              "      <th>16</th>\n",
              "      <td>Chile</td>\n",
              "      <td>8.661000e+04</td>\n",
              "      <td>285.653036</td>\n",
              "    </tr>\n",
              "    <tr>\n",
              "      <th>5</th>\n",
              "      <td>Brazil</td>\n",
              "      <td>4.339900e+05</td>\n",
              "      <td>208.779521</td>\n",
              "    </tr>\n",
              "    <tr>\n",
              "      <th>19</th>\n",
              "      <td>South Africa</td>\n",
              "      <td>4.343500e+05</td>\n",
              "      <td>181.873380</td>\n",
              "    </tr>\n",
              "    <tr>\n",
              "      <th>6</th>\n",
              "      <td>Argentina</td>\n",
              "      <td>1.769000e+05</td>\n",
              "      <td>163.902524</td>\n",
              "    </tr>\n",
              "    <tr>\n",
              "      <th>12</th>\n",
              "      <td>Mexico</td>\n",
              "      <td>4.525700e+05</td>\n",
              "      <td>155.159767</td>\n",
              "    </tr>\n",
              "    <tr>\n",
              "      <th>14</th>\n",
              "      <td>Australia</td>\n",
              "      <td>3.870700e+05</td>\n",
              "      <td>144.213863</td>\n",
              "    </tr>\n",
              "    <tr>\n",
              "      <th>8</th>\n",
              "      <td>Uruguay</td>\n",
              "      <td>6.540000e+03</td>\n",
              "      <td>137.106917</td>\n",
              "    </tr>\n",
              "  </tbody>\n",
              "</table>\n",
              "</div>\n",
              "      <button class=\"colab-df-convert\" onclick=\"convertToInteractive('df-6a63f118-0bca-41fd-a600-d5c05204e475')\"\n",
              "              title=\"Convert this dataframe to an interactive table.\"\n",
              "              style=\"display:none;\">\n",
              "        \n",
              "  <svg xmlns=\"http://www.w3.org/2000/svg\" height=\"24px\"viewBox=\"0 0 24 24\"\n",
              "       width=\"24px\">\n",
              "    <path d=\"M0 0h24v24H0V0z\" fill=\"none\"/>\n",
              "    <path d=\"M18.56 5.44l.94 2.06.94-2.06 2.06-.94-2.06-.94-.94-2.06-.94 2.06-2.06.94zm-11 1L8.5 8.5l.94-2.06 2.06-.94-2.06-.94L8.5 2.5l-.94 2.06-2.06.94zm10 10l.94 2.06.94-2.06 2.06-.94-2.06-.94-.94-2.06-.94 2.06-2.06.94z\"/><path d=\"M17.41 7.96l-1.37-1.37c-.4-.4-.92-.59-1.43-.59-.52 0-1.04.2-1.43.59L10.3 9.45l-7.72 7.72c-.78.78-.78 2.05 0 2.83L4 21.41c.39.39.9.59 1.41.59.51 0 1.02-.2 1.41-.59l7.78-7.78 2.81-2.81c.8-.78.8-2.07 0-2.86zM5.41 20L4 18.59l7.72-7.72 1.47 1.35L5.41 20z\"/>\n",
              "  </svg>\n",
              "      </button>\n",
              "      \n",
              "  <style>\n",
              "    .colab-df-container {\n",
              "      display:flex;\n",
              "      flex-wrap:wrap;\n",
              "      gap: 12px;\n",
              "    }\n",
              "\n",
              "    .colab-df-convert {\n",
              "      background-color: #E8F0FE;\n",
              "      border: none;\n",
              "      border-radius: 50%;\n",
              "      cursor: pointer;\n",
              "      display: none;\n",
              "      fill: #1967D2;\n",
              "      height: 32px;\n",
              "      padding: 0 0 0 0;\n",
              "      width: 32px;\n",
              "    }\n",
              "\n",
              "    .colab-df-convert:hover {\n",
              "      background-color: #E2EBFA;\n",
              "      box-shadow: 0px 1px 2px rgba(60, 64, 67, 0.3), 0px 1px 3px 1px rgba(60, 64, 67, 0.15);\n",
              "      fill: #174EA6;\n",
              "    }\n",
              "\n",
              "    [theme=dark] .colab-df-convert {\n",
              "      background-color: #3B4455;\n",
              "      fill: #D2E3FC;\n",
              "    }\n",
              "\n",
              "    [theme=dark] .colab-df-convert:hover {\n",
              "      background-color: #434B5C;\n",
              "      box-shadow: 0px 1px 3px 1px rgba(0, 0, 0, 0.15);\n",
              "      filter: drop-shadow(0px 1px 2px rgba(0, 0, 0, 0.3));\n",
              "      fill: #FFFFFF;\n",
              "    }\n",
              "  </style>\n",
              "\n",
              "      <script>\n",
              "        const buttonEl =\n",
              "          document.querySelector('#df-6a63f118-0bca-41fd-a600-d5c05204e475 button.colab-df-convert');\n",
              "        buttonEl.style.display =\n",
              "          google.colab.kernel.accessAllowed ? 'block' : 'none';\n",
              "\n",
              "        async function convertToInteractive(key) {\n",
              "          const element = document.querySelector('#df-6a63f118-0bca-41fd-a600-d5c05204e475');\n",
              "          const dataTable =\n",
              "            await google.colab.kernel.invokeFunction('convertToInteractive',\n",
              "                                                     [key], {});\n",
              "          if (!dataTable) return;\n",
              "\n",
              "          const docLinkHtml = 'Like what you see? Visit the ' +\n",
              "            '<a target=\"_blank\" href=https://colab.research.google.com/notebooks/data_table.ipynb>data table notebook</a>'\n",
              "            + ' to learn more about interactive tables.';\n",
              "          element.innerHTML = '';\n",
              "          dataTable['output_type'] = 'display_data';\n",
              "          await google.colab.output.renderOutput(dataTable, element);\n",
              "          const docLink = document.createElement('div');\n",
              "          docLink.innerHTML = docLinkHtml;\n",
              "          element.appendChild(docLink);\n",
              "        }\n",
              "      </script>\n",
              "    </div>\n",
              "  </div>\n",
              "  "
            ]
          },
          "metadata": {},
          "execution_count": 34
        }
      ]
    }
  ]
}